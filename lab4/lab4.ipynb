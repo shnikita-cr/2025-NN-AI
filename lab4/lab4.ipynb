{
 "cells": [
  {
   "cell_type": "code",
   "execution_count": 1,
   "outputs": [],
   "source": [
    "import time\n",
    "import numpy as np\n",
    "import pandas as pd"
   ],
   "metadata": {
    "collapsed": false,
    "ExecuteTime": {
     "start_time": "2025-10-01T22:00:13.567588Z",
     "end_time": "2025-10-01T22:00:14.269934Z"
    }
   }
  },
  {
   "cell_type": "code",
   "execution_count": 2,
   "outputs": [],
   "source": [
    "def test(f, cnt: int, *args, **kwargs) -> None:\n",
    "    for i in range(cnt):\n",
    "        start_time = time.time()\n",
    "        f(*args, **kwargs)\n",
    "        end_time = time.time()\n",
    "    elapsed = end_time - start_time\n",
    "    return elapsed"
   ],
   "metadata": {
    "collapsed": false,
    "ExecuteTime": {
     "start_time": "2025-10-01T22:00:14.269934Z",
     "end_time": "2025-10-01T22:00:14.293496Z"
    }
   }
  },
  {
   "cell_type": "code",
   "execution_count": 3,
   "outputs": [],
   "source": [
    "results = {}\n",
    "index = []\n",
    "# for ... in ... :\n",
    "#     results[\"func\"]=time\n",
    "results = {\n",
    "    \"sum\":[1.5,1.3],\n",
    "    \"matrix_product\":[1.4,1.2]\n",
    "}\n",
    "index=[\"np\", \"py\"]"
   ],
   "metadata": {
    "collapsed": false,
    "ExecuteTime": {
     "start_time": "2025-10-01T22:00:14.296942Z",
     "end_time": "2025-10-01T22:00:14.335914Z"
    }
   }
  },
  {
   "cell_type": "code",
   "execution_count": 4,
   "outputs": [
    {
     "data": {
      "text/plain": "                 np   py\nsum             1.5  1.3\nmatrix_product  1.4  1.2",
      "text/html": "<div>\n<style scoped>\n    .dataframe tbody tr th:only-of-type {\n        vertical-align: middle;\n    }\n\n    .dataframe tbody tr th {\n        vertical-align: top;\n    }\n\n    .dataframe thead th {\n        text-align: right;\n    }\n</style>\n<table border=\"1\" class=\"dataframe\">\n  <thead>\n    <tr style=\"text-align: right;\">\n      <th></th>\n      <th>np</th>\n      <th>py</th>\n    </tr>\n  </thead>\n  <tbody>\n    <tr>\n      <th>sum</th>\n      <td>1.5</td>\n      <td>1.3</td>\n    </tr>\n    <tr>\n      <th>matrix_product</th>\n      <td>1.4</td>\n      <td>1.2</td>\n    </tr>\n  </tbody>\n</table>\n</div>"
     },
     "execution_count": 4,
     "metadata": {},
     "output_type": "execute_result"
    }
   ],
   "source": [
    "df = pd.DataFrame(results,index=index).T\n",
    "df"
   ],
   "metadata": {
    "collapsed": false,
    "ExecuteTime": {
     "start_time": "2025-10-01T22:00:14.320287Z",
     "end_time": "2025-10-01T22:00:14.401239Z"
    }
   }
  },
  {
   "cell_type": "code",
   "execution_count": 5,
   "outputs": [],
   "source": [
    "df[\"ratio_np_py\"]=df[\"np\"]/df[\"py\"]"
   ],
   "metadata": {
    "collapsed": false,
    "ExecuteTime": {
     "start_time": "2025-10-01T22:00:14.369975Z",
     "end_time": "2025-10-01T22:00:14.470546Z"
    }
   }
  },
  {
   "cell_type": "code",
   "execution_count": 6,
   "outputs": [
    {
     "data": {
      "text/plain": "                 np   py  ratio_np_py\nsum             1.5  1.3     1.153846\nmatrix_product  1.4  1.2     1.166667",
      "text/html": "<div>\n<style scoped>\n    .dataframe tbody tr th:only-of-type {\n        vertical-align: middle;\n    }\n\n    .dataframe tbody tr th {\n        vertical-align: top;\n    }\n\n    .dataframe thead th {\n        text-align: right;\n    }\n</style>\n<table border=\"1\" class=\"dataframe\">\n  <thead>\n    <tr style=\"text-align: right;\">\n      <th></th>\n      <th>np</th>\n      <th>py</th>\n      <th>ratio_np_py</th>\n    </tr>\n  </thead>\n  <tbody>\n    <tr>\n      <th>sum</th>\n      <td>1.5</td>\n      <td>1.3</td>\n      <td>1.153846</td>\n    </tr>\n    <tr>\n      <th>matrix_product</th>\n      <td>1.4</td>\n      <td>1.2</td>\n      <td>1.166667</td>\n    </tr>\n  </tbody>\n</table>\n</div>"
     },
     "execution_count": 6,
     "metadata": {},
     "output_type": "execute_result"
    }
   ],
   "source": [
    "df"
   ],
   "metadata": {
    "collapsed": false,
    "ExecuteTime": {
     "start_time": "2025-10-01T22:00:14.385582Z",
     "end_time": "2025-10-01T22:00:14.501801Z"
    }
   }
  },
  {
   "cell_type": "code",
   "execution_count": 7,
   "outputs": [
    {
     "data": {
      "text/plain": "<Axes: >"
     },
     "execution_count": 7,
     "metadata": {},
     "output_type": "execute_result"
    },
    {
     "data": {
      "text/plain": "<Figure size 640x480 with 1 Axes>",
      "image/png": "[encoded data removed]"
     },
     "metadata": {},
     "output_type": "display_data"
    }
   ],
   "source": [
    "df.drop(\"ratio_np_py\", axis=1).plot(kind=\"bar\")"
   ],
   "metadata": {
    "collapsed": false,
    "ExecuteTime": {
     "start_time": "2025-10-01T22:00:14.416880Z",
     "end_time": "2025-10-01T22:00:15.819979Z"
    }
   }
  },
  {
   "cell_type": "code",
   "execution_count": 7,
   "outputs": [],
   "source": [],
   "metadata": {
    "collapsed": false,
    "ExecuteTime": {
     "start_time": "2025-10-01T22:00:15.819979Z",
     "end_time": "2025-10-01T22:00:15.835625Z"
    }
   }
  }
 ],
 "metadata": {
  "kernelspec": {
   "display_name": "Python 3 (ipykernel)",
   "language": "python",
   "name": "python3"
  },
  "language_info": {
   "codemirror_mode": {
    "name": "ipython",
    "version": 3
   },
   "file_extension": ".py",
   "mimetype": "text/x-python",
   "name": "python",
   "nbconvert_exporter": "python",
   "pygments_lexer": "ipython3",
   "version": "3.10.0"
  }
 },
 "nbformat": 4,
 "nbformat_minor": 4
}
