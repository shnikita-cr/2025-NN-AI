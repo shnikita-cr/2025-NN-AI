{
 "cells": [
  {
   "cell_type": "code",
   "execution_count": 44,
   "metadata": {
    "id": "o8RJ0M4BsXyd",
    "ExecuteTime": {
     "start_time": "2025-10-08T16:32:19.327322Z",
     "end_time": "2025-10-08T16:32:19.336587Z"
    }
   },
   "outputs": [],
   "source": [
    "import scipy as sp\n",
    "import random\n",
    "import time\n",
    "import matplotlib.pyplot as plt\n",
    "import matplotlib as mpl\n",
    "import math\n",
    "import os.path\n",
    "import sys\n",
    "import numpy as np\n",
    "from scipy.optimize import fsolve"
   ]
  },
  {
   "cell_type": "code",
   "execution_count": 45,
   "metadata": {
    "id": "HVpZC98AsXyg",
    "ExecuteTime": {
     "start_time": "2025-10-08T16:32:19.822134Z",
     "end_time": "2025-10-08T16:32:19.845535Z"
    }
   },
   "outputs": [],
   "source": [
    "def defaultGenerate():\n",
    "    \"\"\"\n",
    "    Функция создания данных\n",
    "    \"\"\"\n",
    "    return [1, 2, 3, 4, 5], [3.9, 4.9, 3.4, 1.4, 1.2]\n"
   ]
  },
  {
   "cell_type": "code",
   "execution_count": 46,
   "metadata": {
    "id": "3Lxuia-WsXyh",
    "ExecuteTime": {
     "start_time": "2025-10-08T16:32:20.296192Z",
     "end_time": "2025-10-08T16:32:20.337816Z"
    }
   },
   "outputs": [],
   "source": [
    "def rand(start, finish, num):\n",
    "    \"\"\"\n",
    "    Функция генерации/создания массива случайных данных\n",
    "    \"\"\"\n",
    "    \n",
    "    result = []\n",
    "    \n",
    "    random.seed(time.time())\n",
    "    for i in range(num):\n",
    "        result.append(random.uniform(start, finish))\n",
    "        \n",
    "    return result"
   ]
  },
  {
   "cell_type": "code",
   "execution_count": 47,
   "metadata": {
    "id": "OEuAQUVIsXyi",
    "ExecuteTime": {
     "start_time": "2025-10-08T16:32:20.827125Z",
     "end_time": "2025-10-08T16:32:20.850807Z"
    }
   },
   "outputs": [],
   "source": [
    "def randomGenerate(start, finish, num):\n",
    "    \"\"\"\n",
    "    Функция генерации/создания случайных данных по двум координатам\n",
    "    \"\"\"\n",
    "    \n",
    "    return rand(start, finish, num), rand(start, finish, num) "
   ]
  },
  {
   "cell_type": "code",
   "execution_count": 48,
   "metadata": {
    "id": "vFtDD_ZUsXyj",
    "ExecuteTime": {
     "start_time": "2025-10-08T16:32:21.456265Z",
     "end_time": "2025-10-08T16:32:21.477603Z"
    }
   },
   "outputs": [],
   "source": [
    "def readDataFile(pathFile):\n",
    "    \"\"\"\n",
    "    Function of read data\n",
    "    Функция чтения данных из файла\n",
    "    Формат данный в файле: x_компонента y_компонента\n",
    "    Если по указанному пути не существует файла, то возврат ошибки -1, иначе возврат 0\n",
    "    \"\"\"\n",
    "    \n",
    "    x = []\n",
    "    y = []\n",
    "\n",
    "    if os.path.isfile(pathFile) == True:\n",
    "        file = open(pathFile, \"r\")\n",
    "\n",
    "        for line in file.readlines():\n",
    "            listOfNumbers = [float(i) for i in line.split()]\n",
    "            \n",
    "            if len(listOfNumbers) > 0:\n",
    "                x.append(float(listOfNumbers[0]))\n",
    "                y.append(float(listOfNumbers[1]))\n",
    "\n",
    "        file.close()\n",
    "        id_error = 0\n",
    "    else:\n",
    "        id_error = -1\n",
    "\n",
    "    return id_error, x, y\n"
   ]
  },
  {
   "cell_type": "code",
   "execution_count": 49,
   "metadata": {
    "id": "3DHmIM20sXyl",
    "ExecuteTime": {
     "start_time": "2025-10-08T16:32:22.013083Z",
     "end_time": "2025-10-08T16:32:22.026894Z"
    }
   },
   "outputs": [],
   "source": [
    "def countError(y1, y2):\n",
    "    \"\"\"\n",
    "    Функция вычисления ошибки\n",
    "    \"\"\"\n",
    "    \n",
    "    error_value = 0.0\n",
    "    error_id = 0\n",
    "    \n",
    "    if len(y1) != len(y2):\n",
    "        return -1, error_value\n",
    "    \n",
    "    for i in range(len(y1)):\n",
    "        error_value += math.fabs(y1[i] - y2[i])**2\n",
    "        \n",
    "    return error_id, error_value\n"
   ]
  },
  {
   "cell_type": "code",
   "execution_count": 50,
   "metadata": {
    "id": "1HXVQAs-sXym",
    "ExecuteTime": {
     "start_time": "2025-10-08T16:32:22.421354Z",
     "end_time": "2025-10-08T16:32:22.455075Z"
    }
   },
   "outputs": [],
   "source": [
    "def mnk(x, y, degree):\n",
    "    \"\"\"\n",
    "    Функция выполнения метода наименьших квадратов для линейной функции\n",
    "    \"\"\"\n",
    "    mnk_y = []\n",
    "    \n",
    "    # получаем параметры модели для полинома степени 1/линейная функция\n",
    "    fp, residuals, rank, sv, rcond = np.polyfit(x, y, degree, full=True)\n",
    "    # функция-полином, если её напечатать, то увидите математическое выражение\n",
    "    f = np.poly1d(fp)\n",
    "    # напечатать функцию, которая получилась\n",
    "    print(f)\n",
    "    \n",
    "    for i in range(len(x)):\n",
    "        mnk_y.append(f(x[i]))\n",
    "        \n",
    "    return mnk_y\n"
   ]
  },
  {
   "cell_type": "code",
   "execution_count": 51,
   "metadata": {
    "id": "TXf0QhJ4sXyo",
    "ExecuteTime": {
     "start_time": "2025-10-08T16:32:22.972150Z",
     "end_time": "2025-10-08T16:32:22.979347Z"
    }
   },
   "outputs": [],
   "source": [
    "def drawResult(x, y, new_y):\n",
    "    plt.title('Title')\n",
    "    plt.scatter(x,y)\n",
    "    plt.plot(x,new_y)\n",
    "    plt.show()\n",
    "    \n",
    "def drawPoints(x, y):\n",
    "    plt.scatter(x, y)"
   ]
  },
  {
   "cell_type": "markdown",
   "metadata": {
    "id": "uKzzZUApsXyp"
   },
   "source": [
    "\n",
    "#### Задание:\n",
    "1. сравнить ошибки решения задачи регрессии для данных, заданных по дефолту, а именно линейной и квадратичной регрессии. Изобразить решения на одном графике\n",
    "2. сравнить ошибки решения задачи регрессии для данных, заданных случайно, а именно линейной и квадратичной регрессии. Изобразить решения на одном графике для каждой вариации отдельно.\n",
    "\n",
    "Рассмотреть следующие наборы данных:\n",
    "\n",
    "1. 10 точек от 0 до 10\n",
    "2. 10 точек от -10 до 10\n",
    "3. 10 точек от 0 до 100\n",
    "4. 10 точек от -100 до 100\n",
    "5. 100 точек от 0 до 100\n",
    "6. 100 точек от -100 до 100\n",
    "7. 100 точек от 0 до 1000\n",
    "9. 100 точек от -1000 до 1000\n",
    "10. 1000 точек от 0 до 1000 \n",
    "11. 1000 точек от -1000 до 1000 \n",
    "12. 10000 точек от 0 до 1000 \n",
    "13. 10000 точек от -1000 до 1000\n",
    " \n",
    " \n",
    "3. (*) Написать метод наименьших квадратов с использованием любой другой функции - логарифмической, экспоненциальной, гиперболической \n",
    "4. (*) Написать метод наименьших квадратов функции через матрицы для линейной регрессии"
   ]
  },
  {
   "cell_type": "code",
   "execution_count": 52,
   "metadata": {
    "id": "zNFdw15asXyu",
    "outputId": "65f8ec5d-710a-4531-b093-82585550184f",
    "ExecuteTime": {
     "start_time": "2025-10-08T16:32:24.160862Z",
     "end_time": "2025-10-08T16:32:24.335037Z"
    }
   },
   "outputs": [
    {
     "name": "stdout",
     "output_type": "stream",
     "text": [
      " \n",
      "-0.89 x + 5.63\n",
      "         2\n",
      "-0.2071 x + 0.3529 x + 4.18\n",
      "        3         2\n",
      "0.3583 x - 3.432 x + 8.81 x - 1.84\n",
      "        4          3         2\n",
      "0.0125 x + 0.2083 x - 2.812 x + 7.792 x - 1.3\n",
      "           5           4           3         2\n",
      "-0.003199 x + 0.06049 x - 0.06359 x - 2.093 x + 6.915 x - 0.9161\n",
      "          6          5           4          3         2\n",
      "-0.00101 x + 0.0081 x + 0.03237 x - 0.1634 x - 1.504 x + 5.982 x - 0.4544\n",
      "            7            6           5          4          3         2\n",
      "-0.0002169 x + 0.000844 x + 0.00737 x + 0.0115 x - 0.1873 x - 1.122 x + 5.25 x - 0.06019\n",
      "            8             7            6            5             4\n",
      "-4.183e-05 x + 6.185e-05 x + 0.001132 x + 0.005349 x - 0.0004532 x\n",
      "           3          2\n",
      " - 0.1864 x - 0.8759 x + 4.705 x + 0.2514\n",
      "           9            8             7            6            5\n",
      "-7.74e-06 x - 9.26e-07 x + 0.0001452 x + 0.001056 x + 0.003665 x\n",
      "            4          3          2\n",
      " - 0.00718 x - 0.1785 x - 0.7126 x + 4.3 x + 0.493\n"
     ]
    },
    {
     "data": {
      "text/plain": "<Figure size 640x480 with 1 Axes>",
      "image/png": "[encoded data removed]"
     },
     "metadata": {},
     "output_type": "display_data"
    }
   ],
   "source": [
    "error = []\n",
    "num = []\n",
    "\n",
    "# генерация исходных данных\n",
    "# data_x, data_y = randomGenerate(10, 100, 5)\n",
    "data_x, data_y = defaultGenerate()\n",
    "drawPoints(data_x, data_y)\n",
    "  \n",
    "for i in range(1,10,1):\n",
    "    # вычисление зависимости между исходными данными (y*)\n",
    "    new_y = mnk(data_x, data_y, i)\n",
    "    # вычисление ошибки\n",
    "    error.append(countError(data_y, new_y)[1])\n",
    "    num.append(i)\n",
    "    # изображение результатов\n",
    "    drawPoints(data_x, new_y)\n",
    "    \n",
    "#drawPoints(num, error)\n",
    "plt.show()\n"
   ]
  },
  {
   "cell_type": "code",
   "execution_count": null,
   "metadata": {
    "id": "zWCQTG2wsXyw"
   },
   "outputs": [],
   "source": []
  }
 ],
 "metadata": {
  "colab": {
   "provenance": []
  },
  "kernelspec": {
   "display_name": "Python 3 (ipykernel)",
   "language": "python",
   "name": "python3"
  },
  "language_info": {
   "codemirror_mode": {
    "name": "ipython",
    "version": 3
   },
   "file_extension": ".py",
   "mimetype": "text/x-python",
   "name": "python",
   "nbconvert_exporter": "python",
   "pygments_lexer": "ipython3",
   "version": "3.9.12"
  }
 },
 "nbformat": 4,
 "nbformat_minor": 1
}
