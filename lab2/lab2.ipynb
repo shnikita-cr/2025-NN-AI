{
 "cells": [
  {
   "cell_type": "code",
   "execution_count": 34,
   "metadata": {
    "collapsed": true,
    "ExecuteTime": {
     "start_time": "2025-09-17T18:51:49.397715Z",
     "end_time": "2025-09-17T18:51:49.428978Z"
    }
   },
   "outputs": [],
   "source": [
    "import numpy as np\n",
    "import pandas as pd\n",
    "import matplotlib.pyplot as plt\n",
    "import seaborn as sns"
   ]
  },
  {
   "cell_type": "code",
   "execution_count": 35,
   "outputs": [],
   "source": [
    "np.set_printoptions(precision=3, suppress=True)\n",
    "pd.set_option('display.width', 120)\n",
    "pd.set_option('display.max_columns', 50)"
   ],
   "metadata": {
    "collapsed": false,
    "ExecuteTime": {
     "start_time": "2025-09-17T18:51:49.413339Z",
     "end_time": "2025-09-17T18:51:49.529282Z"
    }
   }
  },
  {
   "cell_type": "code",
   "execution_count": 36,
   "outputs": [
    {
     "name": "stdout",
     "output_type": "stream",
     "text": [
      "a: [ 0  1  2  3  4  5  6  7  8  9 10 11]\n",
      "b:\n",
      " [[ 0  1  2  3]\n",
      " [ 4  5  6  7]\n",
      " [ 8  9 10 11]]\n",
      "c: [0.   0.25 0.5  0.75 1.  ]\n",
      "Единичная матрица 4x4:\n",
      " [[1. 0. 0. 0.]\n",
      " [0. 1. 0. 0.]\n",
      " [0. 0. 1. 0.]\n",
      " [0. 0. 0. 1.]]\n"
     ]
    }
   ],
   "source": [
    "a = np.arange(12)\n",
    "b = np.arange(12).reshape(3, 4)\n",
    "c = np.linspace(0, 1, 5)\n",
    "ones = np.ones((2, 3), dtype=float)\n",
    "zeros = np.zeros((2, 3))\n",
    "eye = np.eye(4)\n",
    "\n",
    "print(\"a:\", a)\n",
    "print(\"b:\\n\", b)\n",
    "print(\"c:\", c)\n",
    "print(\"Единичная матрица 4x4:\\n\", eye)"
   ],
   "metadata": {
    "collapsed": false,
    "ExecuteTime": {
     "start_time": "2025-09-17T18:51:49.428978Z",
     "end_time": "2025-09-17T18:51:49.529282Z"
    }
   }
  },
  {
   "cell_type": "code",
   "execution_count": 37,
   "outputs": [
    {
     "name": "stdout",
     "output_type": "stream",
     "text": [
      "b[1, 2] = 6\n",
      "b[0:2, 1:3] =\n",
      " [[1 2]\n",
      " [5 6]]\n",
      "b[[0,2], [1,3]] = [ 1 11]\n"
     ]
    }
   ],
   "source": [
    "print(\"b[1, 2] =\", b[1, 2])\n",
    "print(\"b[0:2, 1:3] =\\n\", b[0:2, 1:3])\n",
    "idx = [0, 2]\n",
    "print(\"b[[0,2], [1,3]] =\", b[idx, [1, 3]])"
   ],
   "metadata": {
    "collapsed": false,
    "ExecuteTime": {
     "start_time": "2025-09-17T18:51:49.444586Z",
     "end_time": "2025-09-17T18:51:49.529282Z"
    }
   }
  },
  {
   "cell_type": "code",
   "execution_count": 38,
   "outputs": [
    {
     "name": "stdout",
     "output_type": "stream",
     "text": [
      "mask:\n",
      " [[ True False  True False]\n",
      " [ True False  True False]\n",
      " [ True False  True False]]\n",
      "Чётные элементы: [ 0  2  4  6  8 10]\n"
     ]
    }
   ],
   "source": [
    "mask = b % 2 == 0\n",
    "print(\"mask:\\n\", mask)\n",
    "print(\"Чётные элементы:\", b[mask])"
   ],
   "metadata": {
    "collapsed": false,
    "ExecuteTime": {
     "start_time": "2025-09-17T18:51:49.460225Z",
     "end_time": "2025-09-17T18:51:49.529282Z"
    }
   }
  },
  {
   "cell_type": "code",
   "execution_count": 39,
   "outputs": [
    {
     "name": "stdout",
     "output_type": "stream",
     "text": [
      "b + v: (3, 4)\n"
     ]
    }
   ],
   "source": [
    "v = np.array([10, 20, 30, 40])\n",
    "print(\"b + v:\", (b + v).shape)"
   ],
   "metadata": {
    "collapsed": false,
    "ExecuteTime": {
     "start_time": "2025-09-17T18:51:49.475852Z",
     "end_time": "2025-09-17T18:51:49.529282Z"
    }
   }
  },
  {
   "cell_type": "code",
   "execution_count": 40,
   "outputs": [
    {
     "name": "stdout",
     "output_type": "stream",
     "text": [
      "min, max, sum по b: 0 11 66\n",
      "axis=0: [12 15 18 21]\n",
      "axis=1: [ 6 22 38]\n"
     ]
    }
   ],
   "source": [
    "print(\"min, max, sum по b:\", b.min(), b.max(), b.sum())\n",
    "print(\"axis=0:\", b.sum(axis=0))\n",
    "print(\"axis=1:\", b.sum(axis=1))"
   ],
   "metadata": {
    "collapsed": false,
    "ExecuteTime": {
     "start_time": "2025-09-17T18:51:49.498042Z",
     "end_time": "2025-09-17T18:51:49.529282Z"
    }
   }
  },
  {
   "cell_type": "code",
   "execution_count": 41,
   "outputs": [
    {
     "name": "stdout",
     "output_type": "stream",
     "text": [
      "A @ B =\n",
      " [[19. 22.]\n",
      " [43. 50.]]\n",
      "det(A) = -2.0000000000000004\n",
      "inv(A) =\n",
      " [[-2.   1. ]\n",
      " [ 1.5 -0.5]]\n"
     ]
    }
   ],
   "source": [
    "A = np.array([[1., 2.], [3., 4.]])\n",
    "B = np.array([[5., 6.], [7., 8.]])\n",
    "print(\"A @ B =\\n\", A @ B)\n",
    "print(\"det(A) =\", np.linalg.det(A))\n",
    "print(\"inv(A) =\\n\", np.linalg.inv(A))"
   ],
   "metadata": {
    "collapsed": false,
    "ExecuteTime": {
     "start_time": "2025-09-17T18:51:49.513658Z",
     "end_time": "2025-09-17T18:51:49.529282Z"
    }
   }
  },
  {
   "cell_type": "code",
   "execution_count": 42,
   "outputs": [
    {
     "name": "stdout",
     "output_type": "stream",
     "text": [
      "randn:\n",
      " [[ 1.764  0.4    0.979  2.241]\n",
      " [ 1.868 -0.977  0.95  -0.151]\n",
      " [-0.103  0.411  0.144  1.454]\n",
      " [ 0.761  0.122  0.444  0.334]]\n"
     ]
    }
   ],
   "source": [
    "np.random.seed(0)\n",
    "rand = np.random.randn(4, 4)\n",
    "print(\"randn:\\n\", rand)"
   ],
   "metadata": {
    "collapsed": false,
    "ExecuteTime": {
     "start_time": "2025-09-17T18:51:49.529282Z",
     "end_time": "2025-09-17T18:51:49.543667Z"
    }
   }
  },
  {
   "cell_type": "code",
   "execution_count": 42,
   "outputs": [],
   "source": [],
   "metadata": {
    "collapsed": false,
    "ExecuteTime": {
     "start_time": "2025-09-17T18:51:49.543667Z",
     "end_time": "2025-09-17T18:51:49.676246Z"
    }
   }
  },
  {
   "cell_type": "code",
   "execution_count": 43,
   "outputs": [
    {
     "name": "stdout",
     "output_type": "stream",
     "text": [
      "\n",
      "Series:\n",
      " a    10\n",
      "b    20\n",
      "c    30\n",
      "dtype: int64\n"
     ]
    }
   ],
   "source": [
    "s = pd.Series([10, 20, 30], index=['a', 'b', 'c'])\n",
    "print(\"\\nSeries:\\n\", s)"
   ],
   "metadata": {
    "collapsed": false,
    "ExecuteTime": {
     "start_time": "2025-09-17T18:51:49.559339Z",
     "end_time": "2025-09-17T18:51:49.698473Z"
    }
   }
  },
  {
   "cell_type": "code",
   "execution_count": 44,
   "outputs": [
    {
     "name": "stdout",
     "output_type": "stream",
     "text": [
      "\n",
      "DataFrame students:\n",
      "      student  math  physics\n",
      "0  Студент_1     5        4\n",
      "1  Студент_2     3        5\n",
      "2  Студент_3     4        5\n"
     ]
    }
   ],
   "source": [
    "students_marks_dict = {\n",
    "    \"student\": [\"Студент_1\", \"Студент_2\", \"Студент_3\"],\n",
    "    \"math\": [5, 3, 4],\n",
    "    \"physics\": [4, 5, 5]\n",
    "}\n",
    "students = pd.DataFrame(students_marks_dict)\n",
    "print(\"\\nDataFrame students:\\n\", students)"
   ],
   "metadata": {
    "collapsed": false,
    "ExecuteTime": {
     "start_time": "2025-09-17T18:51:49.574941Z",
     "end_time": "2025-09-17T18:51:49.698473Z"
    }
   }
  },
  {
   "cell_type": "code",
   "execution_count": 45,
   "outputs": [
    {
     "name": "stdout",
     "output_type": "stream",
     "text": [
      "Индексы строк: RangeIndex(start=0, stop=3, step=1)\n",
      "Названия столбцов: Index(['student', 'math', 'physics'], dtype='object')\n"
     ]
    }
   ],
   "source": [
    "print(\"Индексы строк:\", students.index)\n",
    "print(\"Названия столбцов:\", students.columns)"
   ],
   "metadata": {
    "collapsed": false,
    "ExecuteTime": {
     "start_time": "2025-09-17T18:51:49.598127Z",
     "end_time": "2025-09-17T18:51:49.698473Z"
    }
   }
  },
  {
   "cell_type": "code",
   "execution_count": 46,
   "outputs": [
    {
     "name": "stdout",
     "output_type": "stream",
     "text": [
      "\n",
      "С новым индексом:\n",
      "            math  physics\n",
      "student                 \n",
      "Студент_1     5        4\n",
      "Студент_2     3        5\n",
      "Студент_3     4        5\n"
     ]
    }
   ],
   "source": [
    "students_idx = students.set_index('student')\n",
    "print(\"\\nС новым индексом:\\n\", students_idx)"
   ],
   "metadata": {
    "collapsed": false,
    "ExecuteTime": {
     "start_time": "2025-09-17T18:51:49.613736Z",
     "end_time": "2025-09-17T18:51:49.698473Z"
    }
   }
  },
  {
   "cell_type": "code",
   "execution_count": 47,
   "outputs": [
    {
     "name": "stdout",
     "output_type": "stream",
     "text": [
      "\n",
      ".loc['Студент_1']:\n",
      " math       5\n",
      "physics    4\n",
      "Name: Студент_1, dtype: int64\n",
      "\n",
      ".iloc[0:2]:\n",
      "      student  math  physics\n",
      "0  Студент_1     5        4\n",
      "1  Студент_2     3        5\n"
     ]
    }
   ],
   "source": [
    "print(\"\\n.loc['Студент_1']:\\n\", students_idx.loc['Студент_1'])\n",
    "print(\"\\n.iloc[0:2]:\\n\", students.iloc[0:2])"
   ],
   "metadata": {
    "collapsed": false,
    "ExecuteTime": {
     "start_time": "2025-09-17T18:51:49.629361Z",
     "end_time": "2025-09-17T18:51:49.698473Z"
    }
   }
  },
  {
   "cell_type": "code",
   "execution_count": 48,
   "outputs": [
    {
     "name": "stdout",
     "output_type": "stream",
     "text": [
      "\n",
      "Студенты с оценкой по math >= 4:\n",
      "      student  math  physics\n",
      "0  Студент_1     5        4\n",
      "2  Студент_3     4        5\n"
     ]
    }
   ],
   "source": [
    "print(\"\\nСтуденты с оценкой по math >= 4:\\n\", students[students['math'] >= 4])"
   ],
   "metadata": {
    "collapsed": false,
    "ExecuteTime": {
     "start_time": "2025-09-17T18:51:49.644985Z",
     "end_time": "2025-09-17T18:51:49.698473Z"
    }
   }
  },
  {
   "cell_type": "code",
   "execution_count": 49,
   "outputs": [
    {
     "name": "stdout",
     "output_type": "stream",
     "text": [
      "\n",
      "students.describe():\n",
      "        math   physics\n",
      "count   3.0  3.000000\n",
      "mean    4.0  4.666667\n",
      "std     1.0  0.577350\n",
      "min     3.0  4.000000\n",
      "25%     3.5  4.500000\n",
      "50%     4.0  5.000000\n",
      "75%     4.5  5.000000\n",
      "max     5.0  5.000000\n",
      "\n",
      "students.info():\n",
      "<class 'pandas.core.frame.DataFrame'>\n",
      "RangeIndex: 3 entries, 0 to 2\n",
      "Data columns (total 3 columns):\n",
      " #   Column   Non-Null Count  Dtype \n",
      "---  ------   --------------  ----- \n",
      " 0   student  3 non-null      object\n",
      " 1   math     3 non-null      int64 \n",
      " 2   physics  3 non-null      int64 \n",
      "dtypes: int64(2), object(1)\n",
      "memory usage: 200.0+ bytes\n"
     ]
    }
   ],
   "source": [
    "print(\"\\nstudents.describe():\\n\", students.describe())\n",
    "print(\"\\nstudents.info():\")\n",
    "students.info()"
   ],
   "metadata": {
    "collapsed": false,
    "ExecuteTime": {
     "start_time": "2025-09-17T18:51:49.660626Z",
     "end_time": "2025-09-17T18:51:49.698473Z"
    }
   }
  },
  {
   "cell_type": "code",
   "execution_count": 49,
   "outputs": [],
   "source": [],
   "metadata": {
    "collapsed": false,
    "ExecuteTime": {
     "start_time": "2025-09-17T18:51:49.676246Z",
     "end_time": "2025-09-17T18:51:49.845620Z"
    }
   }
  },
  {
   "cell_type": "code",
   "execution_count": 50,
   "outputs": [
    {
     "name": "stdout",
     "output_type": "stream",
     "text": [
      "\n",
      "Исходный df:\n",
      "      city  year  temp   rain\n",
      "0  Moscow  2018   5.0  100.0\n",
      "1  Moscow  2019   NaN  110.0\n",
      "2  Berlin  2018   8.5   80.0\n",
      "3  Berlin  2019   7.0    NaN\n",
      "4   Paris  2019  12.0   60.0\n"
     ]
    }
   ],
   "source": [
    "df = pd.DataFrame({\n",
    "    'city': ['Moscow', 'Moscow', 'Berlin', 'Berlin', 'Paris'],\n",
    "    'year': [2018, 2019, 2018, 2019, 2019],\n",
    "    'temp': [5.0, np.nan, 8.5, 7.0, 12.0],\n",
    "    'rain': [100, 110, 80, np.nan, 60]\n",
    "})\n",
    "print(\"\\nИсходный df:\\n\", df)"
   ],
   "metadata": {
    "collapsed": false,
    "ExecuteTime": {
     "start_time": "2025-09-17T18:51:49.698473Z",
     "end_time": "2025-09-17T18:51:49.883408Z"
    }
   }
  },
  {
   "cell_type": "code",
   "execution_count": 51,
   "outputs": [
    {
     "name": "stdout",
     "output_type": "stream",
     "text": [
      "\n",
      "После заполнения средним:\n",
      "      city  year  temp   rain  temp_filled\n",
      "0  Moscow  2018   5.0  100.0        5.000\n",
      "1  Moscow  2019   NaN  110.0        8.125\n",
      "2  Berlin  2018   8.5   80.0        8.500\n",
      "3  Berlin  2019   7.0    NaN        7.000\n",
      "4   Paris  2019  12.0   60.0       12.000\n"
     ]
    }
   ],
   "source": [
    "df['temp_filled'] = df['temp'].fillna(df['temp'].mean())\n",
    "print(\"\\nПосле заполнения средним:\\n\", df)"
   ],
   "metadata": {
    "collapsed": false,
    "ExecuteTime": {
     "start_time": "2025-09-17T18:51:49.714081Z",
     "end_time": "2025-09-17T18:51:49.883408Z"
    }
   }
  },
  {
   "cell_type": "code",
   "execution_count": 51,
   "outputs": [],
   "source": [],
   "metadata": {
    "collapsed": false,
    "ExecuteTime": {
     "start_time": "2025-09-17T18:51:49.729705Z",
     "end_time": "2025-09-17T18:51:49.883408Z"
    }
   }
  },
  {
   "cell_type": "code",
   "execution_count": 52,
   "outputs": [
    {
     "name": "stdout",
     "output_type": "stream",
     "text": [
      "\n",
      "Группировка по городу:\n",
      "          temp            rain\n",
      "         mean      std   mean\n",
      "city                         \n",
      "Berlin   7.75  1.06066   80.0\n",
      "Moscow   5.00      NaN  105.0\n",
      "Paris   12.00      NaN   60.0\n"
     ]
    }
   ],
   "source": [
    "g = df.groupby('city').agg({'temp': ['mean', 'std'], 'rain': 'mean'})\n",
    "print(\"\\nГруппировка по городу:\\n\", g)"
   ],
   "metadata": {
    "collapsed": false,
    "ExecuteTime": {
     "start_time": "2025-09-17T18:51:49.745337Z",
     "end_time": "2025-09-17T18:51:49.883408Z"
    }
   }
  },
  {
   "cell_type": "code",
   "execution_count": 53,
   "outputs": [
    {
     "name": "stdout",
     "output_type": "stream",
     "text": [
      "\n",
      "Добавлен столбец temp_city_mean:\n",
      "      city  year  temp   rain  temp_filled  temp_city_mean\n",
      "0  Moscow  2018   5.0  100.0        5.000            5.00\n",
      "1  Moscow  2019   NaN  110.0        8.125            5.00\n",
      "2  Berlin  2018   8.5   80.0        8.500            7.75\n",
      "3  Berlin  2019   7.0    NaN        7.000            7.75\n",
      "4   Paris  2019  12.0   60.0       12.000           12.00\n"
     ]
    }
   ],
   "source": [
    "df['temp_city_mean'] = df.groupby('city')['temp'].transform('mean')\n",
    "print(\"\\nДобавлен столбец temp_city_mean:\\n\", df)"
   ],
   "metadata": {
    "collapsed": false,
    "ExecuteTime": {
     "start_time": "2025-09-17T18:51:49.760960Z",
     "end_time": "2025-09-17T18:51:49.883408Z"
    }
   }
  },
  {
   "cell_type": "code",
   "execution_count": 54,
   "outputs": [
    {
     "name": "stdout",
     "output_type": "stream",
     "text": [
      "\n",
      "merge left/right:\n",
      "    id name  score\n",
      "0   1    A    NaN\n",
      "1   2    B   10.0\n",
      "2   3    C   20.0\n"
     ]
    }
   ],
   "source": [
    "left = pd.DataFrame({'id': [1, 2, 3], 'name': ['A', 'B', 'C']})\n",
    "right = pd.DataFrame({'id': [2, 3, 4], 'score': [10, 20, 30]})\n",
    "print(\"\\nmerge left/right:\\n\", pd.merge(left, right, on='id', how='left'))"
   ],
   "metadata": {
    "collapsed": false,
    "ExecuteTime": {
     "start_time": "2025-09-17T18:51:49.776578Z",
     "end_time": "2025-09-17T18:51:49.883408Z"
    }
   }
  },
  {
   "cell_type": "code",
   "execution_count": 55,
   "outputs": [],
   "source": [
    "x = np.linspace(0, 2*np.pi, 100)\n",
    "y1 = np.sin(x)\n",
    "y2 = np.cos(x)"
   ],
   "metadata": {
    "collapsed": false,
    "ExecuteTime": {
     "start_time": "2025-09-17T18:51:49.798763Z",
     "end_time": "2025-09-17T18:51:49.883408Z"
    }
   }
  },
  {
   "cell_type": "code",
   "execution_count": 56,
   "outputs": [
    {
     "data": {
      "text/plain": "<Figure size 800x400 with 1 Axes>",
      "image/png": "[encoded data removed]"
     },
     "metadata": {},
     "output_type": "display_data"
    }
   ],
   "source": [
    "plt.figure(figsize=(8, 4))\n",
    "plt.plot(x, y1, label='sin(x)')\n",
    "plt.plot(x, y2, label='cos(x)', linestyle='--')\n",
    "plt.title('Sin and Cos')\n",
    "plt.xlabel('x')\n",
    "plt.ylabel('value')\n",
    "plt.legend()\n",
    "plt.grid(True)\n",
    "plt.show()"
   ],
   "metadata": {
    "collapsed": false,
    "ExecuteTime": {
     "start_time": "2025-09-17T18:51:49.814582Z",
     "end_time": "2025-09-17T18:51:49.999257Z"
    }
   }
  },
  {
   "cell_type": "code",
   "execution_count": 57,
   "outputs": [
    {
     "data": {
      "text/plain": "<Figure size 600x400 with 1 Axes>",
      "image/png": "[encoded data removed]"
     },
     "metadata": {},
     "output_type": "display_data"
    }
   ],
   "source": [
    "np.random.seed(1)\n",
    "vals = np.random.randn(1000)\n",
    "plt.figure(figsize=(6, 4))\n",
    "plt.hist(vals, bins=30)\n",
    "plt.title('Histogram')\n",
    "plt.show()"
   ],
   "metadata": {
    "collapsed": false,
    "ExecuteTime": {
     "start_time": "2025-09-17T18:51:49.983587Z",
     "end_time": "2025-09-17T18:51:50.130809Z"
    }
   }
  },
  {
   "cell_type": "code",
   "execution_count": 58,
   "outputs": [
    {
     "data": {
      "text/plain": "<Figure size 500x500 with 2 Axes>",
      "image/png": "[encoded data removed]"
     },
     "metadata": {},
     "output_type": "display_data"
    }
   ],
   "source": [
    "mat = np.random.rand(10, 10)\n",
    "plt.figure(figsize=(5, 5))\n",
    "plt.imshow(mat, interpolation='nearest')\n",
    "plt.title('Random matrix')\n",
    "plt.colorbar()\n",
    "plt.show()"
   ],
   "metadata": {
    "collapsed": false,
    "ExecuteTime": {
     "start_time": "2025-09-17T18:51:50.130809Z",
     "end_time": "2025-09-17T18:51:50.295368Z"
    }
   }
  },
  {
   "cell_type": "code",
   "execution_count": 58,
   "outputs": [],
   "source": [],
   "metadata": {
    "collapsed": false,
    "ExecuteTime": {
     "start_time": "2025-09-17T18:51:50.295368Z",
     "end_time": "2025-09-17T18:51:50.311012Z"
    }
   }
  },
  {
   "cell_type": "code",
   "execution_count": 58,
   "outputs": [],
   "source": [],
   "metadata": {
    "collapsed": false,
    "ExecuteTime": {
     "start_time": "2025-09-17T18:51:50.311012Z",
     "end_time": "2025-09-17T18:51:50.372115Z"
    }
   }
  }
 ],
 "metadata": {
  "kernelspec": {
   "display_name": "Python 3",
   "language": "python",
   "name": "python3"
  },
  "language_info": {
   "codemirror_mode": {
    "name": "ipython",
    "version": 2
   },
   "file_extension": ".py",
   "mimetype": "text/x-python",
   "name": "python",
   "nbconvert_exporter": "python",
   "pygments_lexer": "ipython2",
   "version": "2.7.6"
  }
 },
 "nbformat": 4,
 "nbformat_minor": 0
}
