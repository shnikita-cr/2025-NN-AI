{
 "cells": [
  {
   "cell_type": "code",
   "execution_count": null,
   "metadata": {
    "collapsed": true,
    "ExecuteTime": {
     "start_time": "2025-09-18T00:21:30.379017Z",
     "end_time": "2025-09-18T00:21:30.389877Z"
    }
   },
   "outputs": [],
   "source": [
    "import numpy as np"
   ]
  },
  {
   "cell_type": "code",
   "execution_count": null,
   "outputs": [],
   "source": [
    "a = np.arange(12)\n",
    "b = np.arange(12).reshape(3, 4)\n",
    "c = np.linspace(0, 1, 5)\n",
    "ones = np.ones((2, 3), dtype=float)\n",
    "zeros = np.zeros((2, 3))\n",
    "eye = np.eye(4)\n",
    "\n",
    "print(\"a:\", a)\n",
    "print(\"b:\\n\", b)\n",
    "print(\"c:\", c)\n",
    "print(\"Единичная матрица 4x4:\\n\", eye)"
   ],
   "metadata": {
    "collapsed": false,
    "ExecuteTime": {
     "start_time": "2025-09-17T18:51:49.428978Z",
     "end_time": "2025-09-17T18:51:49.529282Z"
    }
   }
  },
  {
   "cell_type": "code",
   "execution_count": null,
   "outputs": [],
   "source": [
    "print(\"b[1, 2] =\", b[1, 2])\n",
    "print(\"b[0:2, 1:3] =\\n\", b[0:2, 1:3])\n",
    "idx = [0, 2]\n",
    "print(\"b[[0,2], [1,3]] =\", b[idx, [1, 3]])"
   ],
   "metadata": {
    "collapsed": false,
    "ExecuteTime": {
     "start_time": "2025-09-17T18:51:49.444586Z",
     "end_time": "2025-09-17T18:51:49.529282Z"
    }
   }
  },
  {
   "cell_type": "code",
   "execution_count": null,
   "outputs": [],
   "source": [
    "mask = b % 2 == 0\n",
    "print(\"mask:\\n\", mask)\n",
    "print(\"Чётные элементы:\", b[mask])"
   ],
   "metadata": {
    "collapsed": false,
    "ExecuteTime": {
     "start_time": "2025-09-17T18:51:49.460225Z",
     "end_time": "2025-09-17T18:51:49.529282Z"
    }
   }
  },
  {
   "cell_type": "code",
   "execution_count": null,
   "outputs": [],
   "source": [
    "v = np.array([10, 20, 30, 40])\n",
    "print(\"b + v:\", (b + v).shape)"
   ],
   "metadata": {
    "collapsed": false,
    "ExecuteTime": {
     "start_time": "2025-09-17T18:51:49.475852Z",
     "end_time": "2025-09-17T18:51:49.529282Z"
    }
   }
  },
  {
   "cell_type": "code",
   "execution_count": null,
   "outputs": [],
   "source": [
    "print(\"min, max, sum по b:\", b.min(), b.max(), b.sum())\n",
    "print(\"axis=0:\", b.sum(axis=0))\n",
    "print(\"axis=1:\", b.sum(axis=1))"
   ],
   "metadata": {
    "collapsed": false,
    "ExecuteTime": {
     "start_time": "2025-09-17T18:51:49.498042Z",
     "end_time": "2025-09-17T18:51:49.529282Z"
    }
   }
  },
  {
   "cell_type": "code",
   "execution_count": null,
   "outputs": [],
   "source": [
    "np.random.seed(0)\n",
    "rand = np.random.randn(4, 4)\n",
    "print(rand)"
   ],
   "metadata": {
    "collapsed": false,
    "ExecuteTime": {
     "start_time": "2025-09-18T00:24:12.949777Z",
     "end_time": "2025-09-18T00:24:12.971670Z"
    }
   }
  },
  {
   "cell_type": "code",
   "execution_count": null,
   "outputs": [],
   "source": [
    "rand"
   ],
   "metadata": {
    "collapsed": false,
    "ExecuteTime": {
     "start_time": "2025-09-18T00:24:16.273397Z",
     "end_time": "2025-09-18T00:24:16.318398Z"
    }
   }
  }
 ],
 "metadata": {
  "kernelspec": {
   "display_name": "Python 3",
   "language": "python",
   "name": "python3"
  },
  "language_info": {
   "codemirror_mode": {
    "name": "ipython",
    "version": 2
   },
   "file_extension": ".py",
   "mimetype": "text/x-python",
   "name": "python",
   "nbconvert_exporter": "python",
   "pygments_lexer": "ipython2",
   "version": "2.7.6"
  }
 },
 "nbformat": 4,
 "nbformat_minor": 0
}
