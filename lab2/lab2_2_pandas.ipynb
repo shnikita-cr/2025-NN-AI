{
 "cells": [
  {
   "cell_type": "code",
   "execution_count": null,
   "metadata": {
    "collapsed": true,
    "ExecuteTime": {
     "start_time": "2025-09-18T00:28:29.327607Z",
     "end_time": "2025-09-18T00:28:29.354601Z"
    }
   },
   "outputs": [],
   "source": [
    "import numpy as np\n",
    "import pandas as pd"
   ]
  },
  {
   "cell_type": "code",
   "execution_count": null,
   "outputs": [],
   "source": [
    "s = pd.Series([10, 20, 30], index=['a', 'b', 'c'], name=\"Series\")\n",
    "s"
   ],
   "metadata": {
    "collapsed": false,
    "ExecuteTime": {
     "start_time": "2025-09-18T00:28:29.338604Z",
     "end_time": "2025-09-18T00:28:29.418807Z"
    }
   }
  },
  {
   "cell_type": "code",
   "execution_count": null,
   "outputs": [],
   "source": [
    "students_marks_dict = {\n",
    "    \"student\": [\"Студент_1\", \"Студент_2\", \"Студент_3\"],\n",
    "    \"math\": [5, 3, 4],\n",
    "    \"physics\": [4, 5, 5]\n",
    "}\n",
    "students = pd.DataFrame(students_marks_dict)\n",
    "students"
   ],
   "metadata": {
    "collapsed": false,
    "ExecuteTime": {
     "start_time": "2025-09-18T00:28:29.354601Z",
     "end_time": "2025-09-18T00:28:29.419807Z"
    }
   }
  },
  {
   "cell_type": "code",
   "execution_count": null,
   "outputs": [],
   "source": [
    "print(\"Индексы строк:\", students.index)\n",
    "print(\"Названия столбцов:\", students.columns)"
   ],
   "metadata": {
    "collapsed": false,
    "ExecuteTime": {
     "start_time": "2025-09-18T00:28:29.368806Z",
     "end_time": "2025-09-18T00:28:29.419807Z"
    }
   }
  },
  {
   "cell_type": "code",
   "execution_count": null,
   "outputs": [],
   "source": [
    "students_idx = students.set_index('student')\n",
    "print(\"\\nС новым индексом:\\n\")\n",
    "students_idx"
   ],
   "metadata": {
    "collapsed": false,
    "ExecuteTime": {
     "start_time": "2025-09-18T00:28:29.385808Z",
     "end_time": "2025-09-18T00:28:29.420806Z"
    }
   }
  },
  {
   "cell_type": "code",
   "execution_count": null,
   "outputs": [],
   "source": [
    "print(\"\\n.loc['Студент_1']:\\n\", students_idx.loc['Студент_1'])\n",
    "print(\"\\n.iloc[0:2]:\\n\", students.iloc[0:2])"
   ],
   "metadata": {
    "collapsed": false,
    "ExecuteTime": {
     "start_time": "2025-09-18T00:28:29.399807Z",
     "end_time": "2025-09-18T00:28:29.420806Z"
    }
   }
  },
  {
   "cell_type": "code",
   "execution_count": null,
   "outputs": [],
   "source": [
    "print(\"\\nСтуденты с оценкой по math >= 4:\\n\", students[students['math'] >= 4])"
   ],
   "metadata": {
    "collapsed": false,
    "ExecuteTime": {
     "start_time": "2025-09-18T00:28:29.414806Z",
     "end_time": "2025-09-18T00:28:29.438504Z"
    }
   }
  },
  {
   "cell_type": "code",
   "execution_count": null,
   "outputs": [],
   "source": [
    "print(\"\\nstudents.describe():\\n\")\n",
    "students.describe()"
   ],
   "metadata": {
    "collapsed": false,
    "ExecuteTime": {
     "start_time": "2025-09-18T00:28:29.433505Z",
     "end_time": "2025-09-18T00:28:29.599983Z"
    }
   }
  },
  {
   "cell_type": "code",
   "execution_count": null,
   "outputs": [],
   "source": [
    "print(\"\\nstudents.info():\")\n",
    "students.info()"
   ],
   "metadata": {
    "collapsed": false,
    "ExecuteTime": {
     "start_time": "2025-09-18T00:28:29.465513Z",
     "end_time": "2025-09-18T00:28:29.629853Z"
    }
   }
  },
  {
   "cell_type": "code",
   "execution_count": null,
   "outputs": [],
   "source": [
    "df = pd.DataFrame({\n",
    "    'city': ['Moscow', 'Moscow', 'Berlin', 'Berlin', 'Paris'],\n",
    "    'year': [2018, 2019, 2018, 2019, 2019],\n",
    "    'temp': [5.0, np.nan, 8.5, 7.0, 12.0],\n",
    "    'rain': [100, 110, 80, np.nan, 60]\n",
    "})\n",
    "print(\"\\nИсходный df:\\n\")\n",
    "df"
   ],
   "metadata": {
    "collapsed": false,
    "ExecuteTime": {
     "start_time": "2025-09-18T00:28:29.482513Z",
     "end_time": "2025-09-18T00:28:29.701726Z"
    }
   }
  },
  {
   "cell_type": "code",
   "execution_count": null,
   "outputs": [],
   "source": [
    "df['temp_filled'] = df['temp'].fillna(df['temp'].mean())\n",
    "print(\"\\nПосле заполнения средним:\\n\")\n",
    "df"
   ],
   "metadata": {
    "collapsed": false,
    "ExecuteTime": {
     "start_time": "2025-09-18T00:28:29.508691Z",
     "end_time": "2025-09-18T00:28:29.701726Z"
    }
   }
  },
  {
   "cell_type": "code",
   "execution_count": null,
   "outputs": [],
   "source": [
    "g = df.groupby('city').agg({'temp': ['mean', 'std'], 'rain': 'mean'})\n",
    "print(\"\\nГруппировка по городу:\\n\")\n",
    "g"
   ],
   "metadata": {
    "collapsed": false,
    "ExecuteTime": {
     "start_time": "2025-09-18T00:28:29.526576Z",
     "end_time": "2025-09-18T00:28:29.702738Z"
    }
   }
  },
  {
   "cell_type": "code",
   "execution_count": null,
   "outputs": [],
   "source": [
    "df['temp_city_mean'] = df.groupby('city')['temp'].transform('mean')\n",
    "print(\"\\nДобавлен столбец temp_city_mean:\\n\")\n",
    "df"
   ],
   "metadata": {
    "collapsed": false,
    "ExecuteTime": {
     "start_time": "2025-09-18T00:28:29.558761Z",
     "end_time": "2025-09-18T00:28:29.941502Z"
    }
   }
  }
 ],
 "metadata": {
  "kernelspec": {
   "display_name": "Python 3",
   "language": "python",
   "name": "python3"
  },
  "language_info": {
   "codemirror_mode": {
    "name": "ipython",
    "version": 2
   },
   "file_extension": ".py",
   "mimetype": "text/x-python",
   "name": "python",
   "nbconvert_exporter": "python",
   "pygments_lexer": "ipython2",
   "version": "2.7.6"
  }
 },
 "nbformat": 4,
 "nbformat_minor": 0
}
