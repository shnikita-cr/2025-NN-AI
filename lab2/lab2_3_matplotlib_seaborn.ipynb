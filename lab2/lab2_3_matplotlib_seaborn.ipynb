{
 "cells": [
  {
   "cell_type": "code",
   "execution_count": null,
   "metadata": {
    "collapsed": true,
    "ExecuteTime": {
     "start_time": "2025-09-18T00:56:38.754528Z",
     "end_time": "2025-09-18T00:56:38.821615Z"
    }
   },
   "outputs": [],
   "source": [
    "import numpy as np\n",
    "import pandas as pd\n",
    "import matplotlib.pyplot as plt\n",
    "import seaborn as sns"
   ]
  },
  {
   "cell_type": "code",
   "execution_count": null,
   "outputs": [],
   "source": [
    "students_marks_dict = {\n",
    "    \"student\": [\"Студент_1\", \"Студент_2\", \"Студент_3\"],\n",
    "    \"math\": [5, 3, 4],\n",
    "    \"physics\": [4, 5, 5]\n",
    "}\n",
    "students = pd.DataFrame(students_marks_dict)\n",
    "print(\"\\nDataFrame students:\\n\")\n",
    "students"
   ],
   "metadata": {
    "collapsed": false,
    "ExecuteTime": {
     "start_time": "2025-09-18T00:56:38.773827Z",
     "end_time": "2025-09-18T00:56:38.861800Z"
    }
   }
  },
  {
   "cell_type": "code",
   "execution_count": null,
   "outputs": [],
   "source": [
    "students_idx = students.set_index('student')\n",
    "print(\"\\nС новым индексом:\\n\")\n",
    "students_idx"
   ],
   "metadata": {
    "collapsed": false,
    "ExecuteTime": {
     "start_time": "2025-09-18T00:56:38.787009Z",
     "end_time": "2025-09-18T00:56:38.862573Z"
    }
   }
  },
  {
   "cell_type": "code",
   "execution_count": null,
   "outputs": [],
   "source": [
    "students_idx.plot(kind=\"bar\")"
   ],
   "metadata": {
    "collapsed": false,
    "ExecuteTime": {
     "start_time": "2025-09-18T00:56:38.802265Z",
     "end_time": "2025-09-18T00:56:39.108591Z"
    }
   }
  },
  {
   "cell_type": "code",
   "execution_count": null,
   "outputs": [],
   "source": [
    "students.describe().plot(kind=\"barh\")"
   ],
   "metadata": {
    "collapsed": false,
    "ExecuteTime": {
     "start_time": "2025-09-18T00:56:38.987724Z",
     "end_time": "2025-09-18T00:56:39.281519Z"
    }
   }
  },
  {
   "cell_type": "code",
   "execution_count": null,
   "outputs": [],
   "source": [
    "df = pd.DataFrame({\n",
    "    'city': ['Moscow', 'Moscow', 'Berlin', 'Berlin', 'Paris'],\n",
    "    'year': [2018, 2019, 2018, 2019, 2019],\n",
    "    'temp': [5.0, np.nan, 8.5, 7.0, 12.0],\n",
    "    'rain': [100, 110, 80, np.nan, 60]\n",
    "})\n",
    "df"
   ],
   "metadata": {
    "collapsed": false,
    "ExecuteTime": {
     "start_time": "2025-09-18T00:56:39.099573Z",
     "end_time": "2025-09-18T00:56:39.282661Z"
    }
   }
  },
  {
   "cell_type": "code",
   "execution_count": null,
   "outputs": [],
   "source": [
    "df.rain = df.rain.fillna(df.rain.mean())"
   ],
   "metadata": {
    "collapsed": false,
    "ExecuteTime": {
     "start_time": "2025-09-18T00:56:39.115572Z",
     "end_time": "2025-09-18T00:56:39.282661Z"
    }
   }
  },
  {
   "cell_type": "code",
   "execution_count": null,
   "outputs": [],
   "source": [
    "df.temp = df.temp.fillna(df.temp.mean())"
   ],
   "metadata": {
    "collapsed": false,
    "ExecuteTime": {
     "start_time": "2025-09-18T00:56:39.130572Z",
     "end_time": "2025-09-18T00:56:39.361911Z"
    }
   }
  },
  {
   "cell_type": "code",
   "execution_count": null,
   "outputs": [],
   "source": [
    "df"
   ],
   "metadata": {
    "collapsed": false,
    "ExecuteTime": {
     "start_time": "2025-09-18T00:56:39.145600Z",
     "end_time": "2025-09-18T00:56:39.375666Z"
    }
   }
  },
  {
   "cell_type": "code",
   "execution_count": null,
   "outputs": [],
   "source": [
    "df.groupby(\"city\").agg(\"max\")"
   ],
   "metadata": {
    "collapsed": false,
    "ExecuteTime": {
     "start_time": "2025-09-18T00:56:39.159571Z",
     "end_time": "2025-09-18T00:56:39.376670Z"
    }
   }
  },
  {
   "cell_type": "code",
   "execution_count": null,
   "outputs": [],
   "source": [
    "df.groupby(\"city\").agg(\"max\").temp.plot(kind=\"bar\")"
   ],
   "metadata": {
    "collapsed": false,
    "ExecuteTime": {
     "start_time": "2025-09-18T00:56:39.194413Z",
     "end_time": "2025-09-18T00:56:39.392690Z"
    }
   }
  },
  {
   "cell_type": "code",
   "execution_count": null,
   "outputs": [],
   "source": [
    "df.groupby(\"city\").agg(\"max\").rain.plot(kind=\"bar\")"
   ],
   "metadata": {
    "collapsed": false,
    "ExecuteTime": {
     "start_time": "2025-09-18T00:56:39.286665Z",
     "end_time": "2025-09-18T00:56:39.653771Z"
    }
   }
  },
  {
   "cell_type": "code",
   "execution_count": null,
   "outputs": [],
   "source": [
    "df.groupby(\"city\").agg(\"max\").plot(x=\"temp\",y=\"rain\", kind=\"scatter\")"
   ],
   "metadata": {
    "collapsed": false,
    "ExecuteTime": {
     "start_time": "2025-09-18T00:56:39.412662Z",
     "end_time": "2025-09-18T00:56:39.736473Z"
    }
   }
  }
 ],
 "metadata": {
  "kernelspec": {
   "display_name": "Python 3",
   "language": "python",
   "name": "python3"
  },
  "language_info": {
   "codemirror_mode": {
    "name": "ipython",
    "version": 2
   },
   "file_extension": ".py",
   "mimetype": "text/x-python",
   "name": "python",
   "nbconvert_exporter": "python",
   "pygments_lexer": "ipython2",
   "version": "2.7.6"
  }
 },
 "nbformat": 4,
 "nbformat_minor": 0
}
